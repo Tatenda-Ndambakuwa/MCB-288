{
 "cells": [
  {
   "cell_type": "code",
   "execution_count": null,
   "metadata": {
    "collapsed": true
   },
   "outputs": [],
   "source": [
    "import pandas as pd\n",
    "import numpy as np\n",
    "import matplotlib.pyplot as plt\n",
    "%matplotlib inline"
   ]
  },
  {
   "cell_type": "markdown",
   "metadata": {},
   "source": [
    "Have you ever noticed that very tall or very short parents seem to have shorter or taller kids? In this portion we will be trying to predict children's heights based on the heights of their parents."
   ]
  },
  {
   "cell_type": "code",
   "execution_count": null,
   "metadata": {},
   "outputs": [],
   "source": [
    "heights = pd.read_csv('galtonfamilies.csv')\n",
    "heights"
   ]
  },
  {
   "cell_type": "markdown",
   "metadata": {},
   "source": [
    "We can select one or multiple columns by using \"[ ]\" or \"[[ ]]\" like below:"
   ]
  },
  {
   "cell_type": "code",
   "execution_count": null,
   "metadata": {},
   "outputs": [],
   "source": [
    "heights['midparentheight']"
   ]
  },
  {
   "cell_type": "code",
   "execution_count": null,
   "metadata": {},
   "outputs": [],
   "source": [
    "heights[['midparentheight', 'childheight']]"
   ]
  },
  {
   "cell_type": "markdown",
   "metadata": {},
   "source": [
    "Let's make a scatterplot of midparent heights and child heights. "
   ]
  },
  {
   "cell_type": "code",
   "execution_count": null,
   "metadata": {
    "scrolled": true
   },
   "outputs": [],
   "source": [
    "plt.scatter(heights['midparentheight'], heights['childheight'])"
   ]
  },
  {
   "cell_type": "markdown",
   "metadata": {},
   "source": [
    "We can see that there's a positive correlation between midparent heights and child heights. In order to calculate a correlation coefficient and create a regression line, let's turn the two sets into standard units."
   ]
  },
  {
   "cell_type": "code",
   "execution_count": null,
   "metadata": {
    "collapsed": true
   },
   "outputs": [],
   "source": [
    "def standard_units(numbers_array):\n",
    "    return (numbers_array - np.mean(numbers_array))/np.std(numbers_array)"
   ]
  },
  {
   "cell_type": "code",
   "execution_count": null,
   "metadata": {
    "collapsed": true
   },
   "outputs": [],
   "source": [
    "midparentheight_su = standard_units(heights['midparentheight'])\n",
    "childheight_su = standard_units(heights['childheight'])"
   ]
  },
  {
   "cell_type": "code",
   "execution_count": null,
   "metadata": {},
   "outputs": [],
   "source": [
    "r = np.mean(midparentheight_su * childheight_su)\n",
    "slope = r * (np.std(heights['midparentheight']) / np.std(heights['childheight']))\n",
    "intercept = np.mean(heights['midparentheight']) - slope * np.mean(heights['childheight'])\n",
    "r, slope, intercept"
   ]
  },
  {
   "cell_type": "code",
   "execution_count": null,
   "metadata": {},
   "outputs": [],
   "source": [
    "predictions = pd.DataFrame({'midparentheight': heights['midparentheight'],\n",
    "                  'childheight': heights['childheight'],\n",
    "                    'reg_prediction': slope*midparent_child['midparentheight'] + intercept})\n",
    "predictions"
   ]
  },
  {
   "cell_type": "code",
   "execution_count": null,
   "metadata": {},
   "outputs": [],
   "source": [
    "plt.scatter(predictions['midparentheight'],predictions['childheight'],color='b')\n",
    "plt.scatter(predictions['midparentheight'],predictions['reg_prediction'],color='r')"
   ]
  },
  {
   "cell_type": "code",
   "execution_count": null,
   "metadata": {},
   "outputs": [],
   "source": [
    "heights_su = pd.DataFrame({'midparentheight_su': midparentheight_su,\n",
    "                  'childheight_su': childheight_su})\n",
    "x = heights_su['midparentheight_su']\n",
    "y = heights_su['childheight_su']\n",
    "m, b = np.polyfit(x, y, 1)\n",
    "plt.plot(x, y, '.')\n",
    "plt.plot(x, m*x + b, '-')"
   ]
  },
  {
   "cell_type": "code",
   "execution_count": null,
   "metadata": {
    "collapsed": true
   },
   "outputs": [],
   "source": []
  },
  {
   "cell_type": "code",
   "execution_count": null,
   "metadata": {
    "collapsed": true
   },
   "outputs": [],
   "source": []
  }
 ],
 "metadata": {
  "kernelspec": {
   "display_name": "Python 3",
   "language": "python",
   "name": "python3"
  },
  "language_info": {
   "codemirror_mode": {
    "name": "ipython",
    "version": 3
   },
   "file_extension": ".py",
   "mimetype": "text/x-python",
   "name": "python",
   "nbconvert_exporter": "python",
   "pygments_lexer": "ipython3",
   "version": "3.6.1"
  }
 },
 "nbformat": 4,
 "nbformat_minor": 2
}
