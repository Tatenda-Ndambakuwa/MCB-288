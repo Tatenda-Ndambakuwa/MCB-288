{
 "cells": [
  {
   "cell_type": "markdown",
   "metadata": {},
   "source": [
    "# Introduction to DataFrames, Visualizations, and Statistics in Python"
   ]
  },
  {
   "cell_type": "markdown",
   "metadata": {},
   "source": [
    "Run this cell to `import` the various packages that we will be using today."
   ]
  },
  {
   "cell_type": "code",
   "execution_count": null,
   "metadata": {},
   "outputs": [],
   "source": [
    "import numpy as np\n",
    "import pandas as pd\n",
    "import matplotlib.pyplot as plt\n",
    "import seaborn as sns\n",
    "sns.set_style('whitegrid')\n",
    "%matplotlib inline\n",
    "import statsmodels.api as sm # FIXME: Remove in future version?"
   ]
  },
  {
   "cell_type": "markdown",
   "metadata": {},
   "source": [
    "## Introduction to Pandas and Dataframes\n",
    "Many of you may be familiar with the spreadsheet software Excel. In Excel, you can put anything you want into any cell you want. In data science, we work with <b>tables</b>, which are much more strictly structured. In a table, data are arranged into rows and columns such that each column is a property of whatever a row represents. You will also often hear people refer to rows of a table as \"entries\".\n",
    "\n",
    "### Pandas `DataFrame`s\n",
    "The most commonly used data management package in Python is called `pandas`. What we call tables, `pandas` calls <b>DataFrames</b>. If you're worked in the R programming language before, you'll have a head start with `pandas`! You will often see `DataFrame`s abbreviated as `df`, in code examples. Run the cell below to see a (very simple) example of a `DataFrame`. (Don't worry about what the cell is doing just yet.)"
   ]
  },
  {
   "cell_type": "code",
   "execution_count": null,
   "metadata": {
    "scrolled": true
   },
   "outputs": [],
   "source": [
    "ds_classes = pd.read_csv('./Data/01/ds_courses.csv')\n",
    "ds_classes"
   ]
  },
  {
   "cell_type": "markdown",
   "metadata": {},
   "source": [
    "We know this is a `DataFrame` by using the `type` function:"
   ]
  },
  {
   "cell_type": "code",
   "execution_count": null,
   "metadata": {},
   "outputs": [],
   "source": [
    "type(ds_classes)"
   ]
  },
  {
   "cell_type": "markdown",
   "metadata": {},
   "source": [
    "Look at the structure of the `DataFrame`. Each column represents a different attribute of a row. For example, the class title corresponding to the course \"Data 8\" is \"Foundations of Data Science\". The number on the left of the `DataFrame` corresponds to the \"index\" of the row. For example, entry 4 (which is actually the 5th row from the top, because Python uses 0-based indexing!) corresponds to the row with L&S 88-2. Now that you know what a `DataFrame` is, let's move on to making our own!\n",
    "\n",
    "### Making `DataFrame`s\n",
    "There are two basic ways of creating `DataFrame`s. The first is to make one by typing the data into Python manually. For example, we can make `numpy` arrays that correspond to different attributes. Note that the order of attributes in each array matters, and each array has to be the same size. Run the cell below to see an example of what this means. When we make the `DataFrame` itself, the input to the function, `pd.DataFrame()` is a Python dictionary with the column title and the array with the data in it."
   ]
  },
  {
   "cell_type": "code",
   "execution_count": null,
   "metadata": {},
   "outputs": [],
   "source": [
    "journal_titles = np.array(['Nature Reviews Molecular Cell Biology',\n",
    "                           'Nature Methods',\n",
    "                           'Nature Cell Biology',\n",
    "                           'Cell Stem Cell',\n",
    "                           'Molecular Cell',\n",
    "                           'Cancer Cell',\n",
    "                           'Cell Metabolism',\n",
    "                           'Genome Biology',\n",
    "                           'Trends in Cell Biology',\n",
    "                           'Annual Review of Biophysics'])\n",
    "\n",
    "journal_impacts = np.array([29.656, \n",
    "                            19.544, \n",
    "                            14.110, \n",
    "                            13.515, \n",
    "                            13.295, \n",
    "                            13.169, \n",
    "                            11.209, \n",
    "                            10.484, \n",
    "                            10.113, \n",
    "                            9.801])\n",
    "\n",
    "journal_df = pd.DataFrame({'Title': journal_titles,\n",
    "                           'Impact Factor': journal_impacts}) # The input to a \n",
    "journal_df"
   ]
  },
  {
   "cell_type": "markdown",
   "metadata": {},
   "source": [
    "As you can see, this made us a `DataFrame`! However, this will obviously get very tedious for very large datasets. For large datasets formatted as CSV files, you can import the CSV file using the function, `pd.read_csv()`. (The astute reader will notice that this is the same function used above in the example). Run the following cell to see an example of this in action."
   ]
  },
  {
   "cell_type": "code",
   "execution_count": null,
   "metadata": {
    "scrolled": true
   },
   "outputs": [],
   "source": [
    "family_heights = pd.read_csv('Data/01/galtonfamilies.csv')\n",
    "family_heights"
   ]
  },
  {
   "cell_type": "markdown",
   "metadata": {},
   "source": [
    "If you scrolls to the bottom, you can see, this DataFrame has 934 rows and 9 columns in it! Typing this out by hand would clearly take a very very long time. \n",
    "\n",
    "### Working with `DataFrame`s\n",
    "Now that you know how to make `DataFrame`s, it's time to actually do things with them! \n",
    "\n",
    "We can use the `.columns` method to get a `list` of columns:"
   ]
  },
  {
   "cell_type": "code",
   "execution_count": null,
   "metadata": {},
   "outputs": [],
   "source": [
    "family_heights.columns"
   ]
  },
  {
   "cell_type": "markdown",
   "metadata": {},
   "source": [
    "If we use the `len` function on this, we'll see the number of columns"
   ]
  },
  {
   "cell_type": "code",
   "execution_count": null,
   "metadata": {},
   "outputs": [],
   "source": [
    "len(family_heights.columns)"
   ]
  },
  {
   "cell_type": "markdown",
   "metadata": {},
   "source": [
    "We can use `len` on the `DataFrame` object itself to get the number of rows:"
   ]
  },
  {
   "cell_type": "code",
   "execution_count": null,
   "metadata": {},
   "outputs": [],
   "source": [
    "len(family_heights)"
   ]
  },
  {
   "cell_type": "markdown",
   "metadata": {},
   "source": [
    "We can use `df.shape` to simplfy this. The 0th entry in the output of `df.shape` is the number of rows in the `DataFrame`, and the 1st entry in the output of `df.shape` is the number of columns in the `DataFrame`."
   ]
  },
  {
   "cell_type": "code",
   "execution_count": null,
   "metadata": {},
   "outputs": [],
   "source": [
    "print('Number of rows: ' + str(family_heights.shape[0]))\n",
    "print('Number of columns: ' + str(family_heights.shape[1]))"
   ]
  },
  {
   "cell_type": "markdown",
   "metadata": {},
   "source": [
    "Sometimes we also might not care about some of the columns. Keeping them around can often be detrimental to the performance of Python, especially on very large datasets. Luckily, we can either choose the columns we want using `df[lst]`, where `lst` is a list of columns we want to keep:"
   ]
  },
  {
   "cell_type": "code",
   "execution_count": null,
   "metadata": {
    "scrolled": true
   },
   "outputs": [],
   "source": [
    "cols_after_index = family_heights[['family', 'father', 'mother', 'gender', 'childheight']]\n",
    "cols_after_index"
   ]
  },
  {
   "cell_type": "markdown",
   "metadata": {},
   "source": [
    "or delete the columns we don't want using `df.drop(lst, axis=1)`, where `lst` is a list of columns we don't want to keep, but we'll have to reassign this to a variable. We need the parameter `axis=1` to tell Pandas that we are dropping a column, not a row. Here are two example cells that give us exactly the same outputs:"
   ]
  },
  {
   "cell_type": "code",
   "execution_count": null,
   "metadata": {
    "scrolled": true
   },
   "outputs": [],
   "source": [
    "cols_after_drop = family_heights.drop(['id', 'midparentheight', 'children', 'childnum'], axis=1)\n",
    "cols_after_drop"
   ]
  },
  {
   "cell_type": "markdown",
   "metadata": {},
   "source": [
    "If we want to filter rows, we can simply \"index\" into our DataFrame using a condition. `df[df.column_name == some_value]` will give us all the rows corresponding to entries where the `column_name` property equals `some_value`. For example, let's say we only wanted to look at the heights of sons in the table of heights:"
   ]
  },
  {
   "cell_type": "code",
   "execution_count": null,
   "metadata": {
    "scrolled": true
   },
   "outputs": [],
   "source": [
    "only_males = family_heights[family_heights.gender == 'male']\n",
    "only_males"
   ]
  },
  {
   "cell_type": "markdown",
   "metadata": {},
   "source": [
    "As you can see, this returned to us a table with only the rows that had `'male'` in the `gender` column! Note that this can work with any condition. For example, if we only wanted the rows where the height was greater than a certain value, we can also index into the table with a `>` condition:"
   ]
  },
  {
   "cell_type": "code",
   "execution_count": null,
   "metadata": {
    "scrolled": true
   },
   "outputs": [],
   "source": [
    "taller_than_70 = family_heights[family_heights.childheight > 70]\n",
    "taller_than_70"
   ]
  },
  {
   "cell_type": "markdown",
   "metadata": {},
   "source": [
    "---\n",
    "\n",
    "## More on `DataFrame`s: Grouping, Pivoting, and Joining\n",
    "What if we wanted to seperately study the heights of the sons and the daughters of each family? In this section we will learn how use the `pandas` library to manipulate `DataFrame`s.\n",
    "\n",
    "Let's create a separate `DataFrame` containing the height information for just the parents. First, select the columns containing the family code, height of father, height of mother, and average height of parents."
   ]
  },
  {
   "cell_type": "code",
   "execution_count": null,
   "metadata": {
    "scrolled": true
   },
   "outputs": [],
   "source": [
    "parent_heights = family_heights[['family','father', 'mother', 'midparentheight']]\n",
    "parent_heights"
   ]
  },
  {
   "cell_type": "markdown",
   "metadata": {},
   "source": [
    "You can see that each entry of the data structure still corresponds to an individual child. We want to reduce the number of entries so that there is only one row for every family. We can do this by **grouping** the rows of the data structure by family.\n",
    "\n",
    "***Note***: There is only one set of parents per family, so taking the mean of parents for each family is just collapsing the rows. "
   ]
  },
  {
   "cell_type": "code",
   "execution_count": null,
   "metadata": {
    "scrolled": true
   },
   "outputs": [],
   "source": [
    "parent_heights = parent_heights.groupby('family').mean()\n",
    "parent_heights"
   ]
  },
  {
   "cell_type": "markdown",
   "metadata": {},
   "source": [
    "Now that we have a `DataFrame` of `parent_heights`, let's make a `DataFrame` for the heights of the children! From the original `DataFrame`, create a new `DataFrame` called `children_heights` which contains the family code, gender, and height of each child."
   ]
  },
  {
   "cell_type": "code",
   "execution_count": null,
   "metadata": {
    "scrolled": true
   },
   "outputs": [],
   "source": [
    "children_heights = family_heights[['family', 'gender', 'childheight']]\n",
    "children_heights"
   ]
  },
  {
   "cell_type": "markdown",
   "metadata": {},
   "source": [
    "Let's now look at the average daughter and son heights for each family. We'll need the `.pivot` method. In this case, we can use `.pivot` to find the average heights of male and female children in each of the families in the data set."
   ]
  },
  {
   "cell_type": "code",
   "execution_count": null,
   "metadata": {
    "scrolled": true
   },
   "outputs": [],
   "source": [
    "average_child_height_by_gender = pd.pivot_table(children_heights, values = 'childheight', index = ['family'], columns = ['gender'])\n",
    "average_child_height_by_gender"
   ]
  },
  {
   "cell_type": "markdown",
   "metadata": {},
   "source": [
    "Now that we have tables for both parent and child height, we want to somehow combine the two `DataFrame`s so we can make comparisons between parent and child height. We can use **join**, which merges two `DataFrame`s based on a shared attribute. In this case, `parent_heights` and `average_child_height_by_gender` both have a `'family'` attribute. Joining the two tables would match columns with each other in accordance to their `'family'`."
   ]
  },
  {
   "cell_type": "code",
   "execution_count": null,
   "metadata": {
    "scrolled": true
   },
   "outputs": [],
   "source": [
    "family_average_heights = parent_heights.join(average_child_height_by_gender)\n",
    "family_average_heights"
   ]
  },
  {
   "cell_type": "markdown",
   "metadata": {},
   "source": [
    "### Challenge Problems!"
   ]
  },
  {
   "cell_type": "markdown",
   "metadata": {},
   "source": [
    "**1. Using the original `family_heights` DataStructure, create a new DataStructure `mothers_over_65` that contains the columns `family`, `father`, and `mother` where all of the mothers heights are over 65. **"
   ]
  },
  {
   "cell_type": "code",
   "execution_count": null,
   "metadata": {},
   "outputs": [],
   "source": [
    "mothers_over_65 = #Replace this line with your code!\n",
    "mothers_over_65"
   ]
  },
  {
   "cell_type": "code",
   "execution_count": null,
   "metadata": {
    "scrolled": true
   },
   "outputs": [],
   "source": [
    "## Solution ##\n",
    "mothers_over_65 = family_heights[['family', 'father', 'mother']]\n",
    "mothers_over_65 = mothers_over_65[mothers_over_65.mother > 65]\n",
    "mothers_over_65"
   ]
  },
  {
   "cell_type": "markdown",
   "metadata": {},
   "source": [
    "**2. Try creating a new DataStructure  `average_heights_of_parents_of_males` by grouping the `family_heights` DataStructure by `male` to find the average heights of the mothers and fathers of all of the sons of a certain height. Only show the columns `male`, `father`, and `mother`.**"
   ]
  },
  {
   "cell_type": "code",
   "execution_count": null,
   "metadata": {},
   "outputs": [],
   "source": [
    "average_heights_of_parents_of_males = #Replace this line with your code!\n",
    "average_heights_of_parents_of_males"
   ]
  },
  {
   "cell_type": "code",
   "execution_count": null,
   "metadata": {
    "scrolled": true
   },
   "outputs": [],
   "source": [
    "### Solution ###\n",
    "average_heights_of_parents_of_males = family_average_heights.groupby('male').mean().drop(['midparentheight', 'female'], axis=1)\n",
    "average_heights_of_parents_of_males"
   ]
  },
  {
   "cell_type": "markdown",
   "metadata": {},
   "source": [
    "## Visualization: Histograms and Scatter Plots\n",
    "Let's use this `DataFrame` to compare the children's heights to their parents! Start off with by finding the difference between the daughters' heights to their mothers' heights. Add these values as a column named `mother_daughter_height_difference` to the `family_average_heights` `DataFrame`."
   ]
  },
  {
   "cell_type": "code",
   "execution_count": null,
   "metadata": {
    "scrolled": true
   },
   "outputs": [],
   "source": [
    "mother_daughter_difference = family_average_heights['female'] - family_average_heights['mother']\n",
    "family_average_heights['mother_daughter_height_difference'] = mother_daughter_difference\n",
    "family_average_heights"
   ]
  },
  {
   "cell_type": "markdown",
   "metadata": {},
   "source": [
    "Let's plot `mother_daughter_height_difference` on a histogram to see the distribution of height differences."
   ]
  },
  {
   "cell_type": "code",
   "execution_count": null,
   "metadata": {},
   "outputs": [],
   "source": [
    "family_average_heights['mother_daughter_height_difference'].plot.hist()"
   ]
  },
  {
   "cell_type": "markdown",
   "metadata": {},
   "source": [
    "By looking by the histogram, we see that the **mean** of the height difference between mothers and daughters is around 0. This means, that on average, daughters tend to be around the same height as their mothers. However, the wide distribution of height differences makes it difficult for us to conclude a relationship between daughter and mother height.\n",
    "\n",
    "Let's look at a scatterplot between mother heights and daughter heights now. We can do this by applying the `.scatter()` function\n",
    "\n",
    "`.scatter()` has two required arguments: `x` and `y`, which refer to the attributes of the `DataFrame` that you are plotting against each other. `x` will correspond to the horizontal axis of the plot, while `y` will correspond to the vertical axis. \n",
    "\n",
    "`.scatter()` also takes in optional arguments `s`, `c`, and `ax`. `s` is an integer describing the desired size of the points on the plot. `c` is a string describing the desired color of the points. `axl` can be used to overlay one scatter plot onto another. We will see an example of an overlay plot later in this notebook.\n",
    "\n",
    "Let's create a scatter plot using `family_average_heights` to compare the relationship between `'mother'` and `'daughter'`. Set the size of the points to `20` and the color to `'blue'`."
   ]
  },
  {
   "cell_type": "code",
   "execution_count": null,
   "metadata": {},
   "outputs": [],
   "source": [
    "family_average_heights.plot.scatter(x = 'mother', y = 'female', s = 20, c = 'blue')"
   ]
  },
  {
   "cell_type": "markdown",
   "metadata": {},
   "source": [
    "We see that there is not a clear relationship between the two heights, and are hesitant to draw any conclusions about the relationship between mother and daughter heights. Maybe there is a relationship between father and daughter heights!\n",
    "\n",
    "Let's check by creating a scatter plot comparing `'father'` and `'female'`. Set the size of the points to be `20`, and the color of the points to be `red`."
   ]
  },
  {
   "cell_type": "code",
   "execution_count": null,
   "metadata": {},
   "outputs": [],
   "source": [
    "family_average_heights.plot.scatter(x = 'father', y = 'female', s = 20, c = 'red')"
   ]
  },
  {
   "cell_type": "markdown",
   "metadata": {},
   "source": [
    "The relationship between father and daughter heights isn't any more clear than the relationship between mother and daughter heights was! \n",
    "\n",
    "Let's instead look at the relationship between the height of daughters and the average height of their parents. Create a scatter plot that compares `'midparentheight'` and `'female'`. Set the size of the points to be `35` and the color of the points to be `'green'`."
   ]
  },
  {
   "cell_type": "code",
   "execution_count": null,
   "metadata": {},
   "outputs": [],
   "source": [
    "family_average_heights.plot.scatter(x = 'midparentheight', y = 'female', s = 35, color = 'green')"
   ]
  },
  {
   "cell_type": "markdown",
   "metadata": {},
   "source": [
    "We can see that the average parent height and daughter height appear to have more of a linear relationship. This makes sense, since inheritance of height is dependent on both parents, not just the mother or father. \n",
    "\n",
    "We can further see the difference between the relationship between average parent height and daughter height and mother height and daughter height by overlaying the scatterplots that we had previously created.\n",
    "\n",
    "We can do this by passing a value through as the optional `ax` argument in our `.scatter()` function. \n",
    "\n",
    "Define `axl` to be the scatterplot for mother and daughter heights. Then, create a scatterplot for the average height of parents and daughter height, passing `ax = axl` as an argument in `.scatter()`."
   ]
  },
  {
   "cell_type": "code",
   "execution_count": null,
   "metadata": {},
   "outputs": [],
   "source": [
    "axl = family_average_heights.plot.scatter(x = 'mother', y = 'female', s = 20, c = 'blue')\n",
    "\n",
    "family_average_heights.plot.scatter(x = 'midparentheight', y = 'female', s = 35, color = 'green', ax = axl)"
   ]
  },
  {
   "cell_type": "markdown",
   "metadata": {},
   "source": [
    "### Challenge Problems!"
   ]
  },
  {
   "cell_type": "markdown",
   "metadata": {},
   "source": [
    "Now try creating scatterplots as the ones above, but for comparisons with the heights of sons.\n",
    "\n",
    "**1. Create a scatterplot using the heights of mothers and sons. Make the size of the points `15` and the color of the points `gold`. **"
   ]
  },
  {
   "cell_type": "code",
   "execution_count": null,
   "metadata": {
    "collapsed": true
   },
   "outputs": [],
   "source": [
    "#Replace this line with your code!"
   ]
  },
  {
   "cell_type": "code",
   "execution_count": null,
   "metadata": {},
   "outputs": [],
   "source": [
    "### Solution ###\n",
    "family_average_heights.plot.scatter(x = 'mother', y = 'male', s = 15, c = 'gold')"
   ]
  },
  {
   "cell_type": "markdown",
   "metadata": {},
   "source": [
    "**2. Create a scatterplot using the heights of fathers and sons. Make the size of the points `15` and the color of the points `purple`. **"
   ]
  },
  {
   "cell_type": "code",
   "execution_count": null,
   "metadata": {
    "collapsed": true
   },
   "outputs": [],
   "source": [
    "#Replace this line with your code!"
   ]
  },
  {
   "cell_type": "code",
   "execution_count": null,
   "metadata": {},
   "outputs": [],
   "source": [
    "### Solution ###\n",
    "family_average_heights.plot.scatter(x = 'father', y = 'male', s = 15, c = 'purple')"
   ]
  },
  {
   "cell_type": "markdown",
   "metadata": {},
   "source": [
    "**3. Create a scatterplot using the height of sons and the average height of their parents.. Make the size of the points `35` and the color of the points `grey`. **"
   ]
  },
  {
   "cell_type": "code",
   "execution_count": null,
   "metadata": {
    "collapsed": true
   },
   "outputs": [],
   "source": [
    "#Replace this line with your code!"
   ]
  },
  {
   "cell_type": "code",
   "execution_count": null,
   "metadata": {},
   "outputs": [],
   "source": [
    "### Solution ###\n",
    "family_average_heights.plot.scatter(x = 'midparentheight', y = 'male', s = 25, color = 'grey')"
   ]
  },
  {
   "cell_type": "markdown",
   "metadata": {},
   "source": [
    "**4. Create a scatterplot overlaying the plot of son and father heights and the plot of average parent heights and son heights.**"
   ]
  },
  {
   "cell_type": "code",
   "execution_count": null,
   "metadata": {
    "collapsed": true
   },
   "outputs": [],
   "source": [
    "#Replace this line with your code!"
   ]
  },
  {
   "cell_type": "code",
   "execution_count": null,
   "metadata": {},
   "outputs": [],
   "source": [
    "### Solution ###\n",
    "axl = family_average_heights.plot.scatter(x = 'father', y = 'male', s = 15, c = 'purple')\n",
    "\n",
    "family_average_heights.plot.scatter(x = 'midparentheight', y = 'male', s = 25, color = 'grey', ax = axl)"
   ]
  },
  {
   "cell_type": "markdown",
   "metadata": {},
   "source": [
    "## Linear Correlations and Best-Fit Lines\n",
    "**[FIXME] For consistency, change this to use `family_average_heights` from above.** \n",
    "We can see that there's a positive correlation between midparent heights and child heights. In order to calculate a correlation coefficient and create a regression line, let's turn the two sets into standard units."
   ]
  },
  {
   "cell_type": "code",
   "execution_count": null,
   "metadata": {
    "collapsed": true
   },
   "outputs": [],
   "source": [
    "def standard_units(numbers_array):\n",
    "    return (numbers_array - np.mean(numbers_array))/np.std(numbers_array)\n",
    "\n",
    "midparentheight_su = standard_units(family_heights['midparentheight'])\n",
    "childheight_su = standard_units(family_heights['childheight'])\n",
    "plt.scatter(midparentheight_su, childheight_su)"
   ]
  },
  {
   "cell_type": "markdown",
   "metadata": {},
   "source": [
    "**[FIXME@Maya] Please finish the rest of the linear correlation stuff.**"
   ]
  },
  {
   "cell_type": "markdown",
   "metadata": {},
   "source": [
    "## Statistics in Python\n",
    "**[FIXME] Give more of an intro here (motivations, lead in from previous part, etc.)**"
   ]
  },
  {
   "cell_type": "code",
   "execution_count": null,
   "metadata": {
    "collapsed": true
   },
   "outputs": [],
   "source": [
    "family_heights.plot.scatter(\"mother\", \"father\")"
   ]
  },
  {
   "cell_type": "markdown",
   "metadata": {},
   "source": [
    "Is there a trend that you see in the scatterplot?"
   ]
  },
  {
   "cell_type": "markdown",
   "metadata": {},
   "source": [
    "**[YOUR ANSWER HERE]**"
   ]
  },
  {
   "cell_type": "markdown",
   "metadata": {},
   "source": [
    "Let's calculate how much taller (or shorter) each of the fathers are compared to the mothers. Extract the the heights of all the mothers and the heights of all the fathers. Subtracting a column from a column returns a column."
   ]
  },
  {
   "cell_type": "code",
   "execution_count": null,
   "metadata": {
    "collapsed": true,
    "scrolled": true
   },
   "outputs": [],
   "source": [
    "mother_heights = family_heights[\"mother\"]\n",
    "father_heights = family_heights[\"father\"]\n",
    "difference = father_heights - mother_heights\n",
    "difference"
   ]
  },
  {
   "cell_type": "markdown",
   "metadata": {},
   "source": [
    "We can find the mean by calling pd.DataFrame.mean(*argument) where *argument is the column we want to find the average of. Find the mean of the differences in height."
   ]
  },
  {
   "cell_type": "code",
   "execution_count": null,
   "metadata": {
    "collapsed": true
   },
   "outputs": [],
   "source": [
    "pd.DataFrame.mean(difference)"
   ]
  },
  {
   "cell_type": "markdown",
   "metadata": {},
   "source": [
    "What does this tell us about the heights of a the father of a child compared to the height of the mother of a child?"
   ]
  },
  {
   "cell_type": "markdown",
   "metadata": {},
   "source": [
    "**[YOUR ANSWER HERE]**"
   ]
  },
  {
   "cell_type": "markdown",
   "metadata": {},
   "source": [
    "We can also visualize each of the individual height differences with a bar graph using column_name.plot.bar()\n",
    "\n",
    "**[FIXME] This should really be a histogram. Bar graphs are used for categorical variables, while histograms are used for numerical variables. Running this cell takes a really long time because each individual height is plotted.**"
   ]
  },
  {
   "cell_type": "code",
   "execution_count": null,
   "metadata": {
    "collapsed": true
   },
   "outputs": [],
   "source": [
    "difference.plot.bar()"
   ]
  },
  {
   "cell_type": "markdown",
   "metadata": {},
   "source": [
    "Write a short summary about the bar graph created. "
   ]
  },
  {
   "cell_type": "markdown",
   "metadata": {},
   "source": [
    "**[YOUR ANSWER HERE]**"
   ]
  },
  {
   "cell_type": "markdown",
   "metadata": {},
   "source": [
    "Calculate the fraction of pairings where the mother is taller than the father. \n",
    "\n",
    "**[FIXME] Explain what you're doing here better.**"
   ]
  },
  {
   "cell_type": "code",
   "execution_count": null,
   "metadata": {
    "collapsed": true
   },
   "outputs": [],
   "source": [
    "taller_mother = sum(n<0 for n in difference)\n",
    "taller_mother/len(family_heights[\"mother\"])"
   ]
  },
  {
   "cell_type": "markdown",
   "metadata": {},
   "source": [
    "To calculate mathematically whether there is indeed a correlation, we will make a linear regression model.\n",
    "\n",
    "**[FIXME] Explain what statsmodels.api is, and what this is.**"
   ]
  },
  {
   "cell_type": "code",
   "execution_count": null,
   "metadata": {
    "collapsed": true
   },
   "outputs": [],
   "source": [
    "model = sm.OLS(formula='father ~ mother', data=family_heights).fit() # FIXME: This cell doesn't work on my computer.\n",
    "model.summary()"
   ]
  },
  {
   "cell_type": "markdown",
   "metadata": {},
   "source": [
    "$R^2$ value high? \n",
    "\n",
    "**[FIXME] Explain why you want to look at the R^2 value.**"
   ]
  },
  {
   "cell_type": "markdown",
   "metadata": {},
   "source": [
    "**[YOUR ANSWER HERE]**"
   ]
  },
  {
   "cell_type": "code",
   "execution_count": null,
   "metadata": {
    "collapsed": true
   },
   "outputs": [],
   "source": []
  }
 ],
 "metadata": {
  "anaconda-cloud": {},
  "kernelspec": {
   "display_name": "Python 3",
   "language": "python",
   "name": "python3"
  },
  "language_info": {
   "codemirror_mode": {
    "name": "ipython",
    "version": 3
   },
   "file_extension": ".py",
   "mimetype": "text/x-python",
   "name": "python",
   "nbconvert_exporter": "python",
   "pygments_lexer": "ipython3",
   "version": "3.6.2"
  }
 },
 "nbformat": 4,
 "nbformat_minor": 2
}
