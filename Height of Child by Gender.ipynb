{
 "cells": [
  {
   "cell_type": "code",
   "execution_count": null,
   "metadata": {},
   "outputs": [],
   "source": [
    "# Import pandas, a data science library, and matplotlib for plotting\n",
    "import pandas as pd\n",
    "import numpy as np\n",
    "import matplotlib.pyplot as pl\n",
    "%matplotlib inline"
   ]
  },
  {
   "cell_type": "code",
   "execution_count": null,
   "metadata": {
    "scrolled": false
   },
   "outputs": [],
   "source": [
    "family_heights = pd.read_csv('galtonfamilies.csv')\n",
    "family_heights[0:5]"
   ]
  },
  {
   "cell_type": "markdown",
   "metadata": {},
   "source": [
    "# Tables: Grouping, Pivoting, Joining"
   ]
  },
  {
   "cell_type": "markdown",
   "metadata": {},
   "source": [
    "What if we wanted to seperately study the heights of the sons and the daugheters of each family? In this section we will learn how use the pandas library to manipulate tables."
   ]
  },
  {
   "cell_type": "markdown",
   "metadata": {},
   "source": [
    "Let's create a seperate data structure containing the height information for just the parents. First, select the columns containing the family code, height of father, height of mother, and average height of parents."
   ]
  },
  {
   "cell_type": "code",
   "execution_count": null,
   "metadata": {},
   "outputs": [],
   "source": [
    "parent_heights = family_heights[['family','father', 'mother', 'midparentheight']]\n",
    "parent_heights[0:5]"
   ]
  },
  {
   "cell_type": "markdown",
   "metadata": {},
   "source": [
    "You can see that each entry of the data structure still cooresponds to an individual child. We want to reduce the number of entries, so that there is only one row for every family. We can do this by **grouping** the rows of the data structure by family."
   ]
  },
  {
   "cell_type": "code",
   "execution_count": null,
   "metadata": {},
   "outputs": [],
   "source": [
    "parent_heights = parent_heights.groupby('family').mean()\n",
    "parent_heights[0:5]"
   ]
  },
  {
   "cell_type": "markdown",
   "metadata": {},
   "source": [
    "Now that we have a table of parent heights, let's find a table for the heights of the children! From the original data structure, create a new data structure called 'children_heights' which contains the family code, gender, and height of each child."
   ]
  },
  {
   "cell_type": "code",
   "execution_count": null,
   "metadata": {
    "scrolled": true
   },
   "outputs": [],
   "source": [
    "children_heights = family_heights[['family', 'gender', 'childheight']]\n",
    "children_heights[0:5]"
   ]
  },
  {
   "cell_type": "markdown",
   "metadata": {},
   "source": [
    "Let's now look at ther average daughter and son heights for each family. In this case, we can use **pivot** to find the average heights of male and female children in each of the families in the data set"
   ]
  },
  {
   "cell_type": "code",
   "execution_count": null,
   "metadata": {},
   "outputs": [],
   "source": [
    "average_child_height_by_gender = pd.pivot_table(children_heights, values = 'childheight', index = ['family'], columns = ['gender'])\n",
    "average_child_height_by_gender[0:5]"
   ]
  },
  {
   "cell_type": "markdown",
   "metadata": {},
   "source": [
    "Now that we have tables for both parent and child height, we want to somehow combine the two data structure so we can make comparisons between parent and child height. We can use **join**, which merges two data structures based on a shared attribute. In this case, parent_heights and average_child_height_by_gender both have a \"family\" attribute. Joining the two tables would match columns with each other in accordance to their family."
   ]
  },
  {
   "cell_type": "code",
   "execution_count": null,
   "metadata": {},
   "outputs": [],
   "source": [
    "family_average_heights = parent_heights.join(average_child_height_by_gender)\n",
    "family_average_heights[0:5]"
   ]
  },
  {
   "cell_type": "markdown",
   "metadata": {},
   "source": [
    "# Visualization: Scatter Plots and Histograms"
   ]
  },
  {
   "cell_type": "markdown",
   "metadata": {},
   "source": [
    "Let's use this table to compare the children's height to their parents! Start off with by finding the different between daughters' heights to their mothers' heights. Add these values to the family_average_heights data structure."
   ]
  },
  {
   "cell_type": "code",
   "execution_count": null,
   "metadata": {},
   "outputs": [],
   "source": [
    "mother_daughter_difference = family_average_heights['female'] - family_average_heights['mother']\n",
    "family_average_heights['mother_daughter_height_difference'] = mother_daughter_difference\n",
    "\n",
    "family_average_heights[0:5]"
   ]
  },
  {
   "cell_type": "markdown",
   "metadata": {},
   "source": [
    "Let's plot mother_daughter_height_difference on a histogram to see the distribution of height differences."
   ]
  },
  {
   "cell_type": "code",
   "execution_count": null,
   "metadata": {},
   "outputs": [],
   "source": [
    "family_average_heights['mother_daughter_height_difference'].plot.hist()"
   ]
  },
  {
   "cell_type": "markdown",
   "metadata": {},
   "source": [
    "By looking by the histogram, we see that the **mean** of the height difference between mothers and daughters is around 0. This means, that on average, daughters tend to be around the same height as their mothers. However, the wide distribution of height differences makes it difficult for us to conclude a relationship between daughter and mother height."
   ]
  },
  {
   "cell_type": "markdown",
   "metadata": {},
   "source": [
    "Let's look at a scatterplot between mother heights and daughter heights now."
   ]
  },
  {
   "cell_type": "code",
   "execution_count": null,
   "metadata": {},
   "outputs": [],
   "source": [
    "family_average_heights.plot.scatter(x = 'mother', y = 'female', color = 'b')"
   ]
  },
  {
   "cell_type": "markdown",
   "metadata": {},
   "source": [
    "We see that there is not a clear relationship between the two heights, and are hesitant to draw any conclusions about the relationship between mother and daughter heights."
   ]
  },
  {
   "cell_type": "code",
   "execution_count": null,
   "metadata": {},
   "outputs": [],
   "source": [
    "family_average_heights.plot.scatter(x = 'father', y = 'female', color = 'r')"
   ]
  },
  {
   "cell_type": "markdown",
   "metadata": {},
   "source": [
    "Let's instead look at the relationship between the height of daughters and the average height of their parents. Create a scatter plot that compares midparentheight and female."
   ]
  },
  {
   "cell_type": "code",
   "execution_count": null,
   "metadata": {},
   "outputs": [],
   "source": [
    "family_average_heights.plot.scatter(x = 'midparentheight', y = 'female', color = 'g')"
   ]
  },
  {
   "cell_type": "markdown",
   "metadata": {},
   "source": [
    "We can see that the average parent height and daughter height appear to have more of a linear relationship. This makes sense, since inheritance of height is dependent on both parents, not just the mother or father. \n",
    "\n",
    "We can further see the difference between the relationship between average parent height and daughter height and mother height and daughter height by overlaying the scatterplots that we had previously created"
   ]
  },
  {
   "cell_type": "code",
   "execution_count": null,
   "metadata": {},
   "outputs": [],
   "source": [
    "axl = family_average_heights.plot.scatter(x = 'mother', y = 'female', color = 'b')\n",
    "family_average_heights.plot.scatter(x = 'midparentheight', y = 'female', color = 'g', ax = axl)"
   ]
  }
 ],
 "metadata": {
  "kernelspec": {
   "display_name": "Python 3",
   "language": "python",
   "name": "python3"
  },
  "language_info": {
   "codemirror_mode": {
    "name": "ipython",
    "version": 3
   },
   "file_extension": ".py",
   "mimetype": "text/x-python",
   "name": "python",
   "nbconvert_exporter": "python",
   "pygments_lexer": "ipython3",
   "version": "3.6.1"
  }
 },
 "nbformat": 4,
 "nbformat_minor": 2
}
